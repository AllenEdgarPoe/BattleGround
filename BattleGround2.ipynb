{
 "cells": [
  {
   "cell_type": "code",
   "execution_count": 10,
   "metadata": {},
   "outputs": [],
   "source": [
    "import openpyxl\n",
    "from matplotlib import pyplot as plt\n",
    "from collections import defaultdict\n",
    "import numpy as np\n",
    "battleground = openpyxl.load_workbook('BattleGround2.xlsx')"
   ]
  },
  {
   "cell_type": "markdown",
   "metadata": {},
   "source": [
    "### Killed Data"
   ]
  },
  {
   "cell_type": "code",
   "execution_count": 2,
   "metadata": {},
   "outputs": [],
   "source": [
    "sheet = battleground['Sheet1']\n",
    "killed_by = sheet['D5':'E145']\n",
    "weapon_set = set()\n",
    "Killed =[]\n",
    "for weapon,distance in killed_by:\n",
    "    if distance.value:\n",
    "        weapon_set.add(weapon.value)\n",
    "        Killed.append((weapon.value, distance.value))"
   ]
  },
  {
   "cell_type": "code",
   "execution_count": 3,
   "metadata": {},
   "outputs": [],
   "source": [
    "from collections import defaultdict\n",
    "weapon_distance = defaultdict(list)\n",
    "for weapon,distance in Killed:\n",
    "    weapon_distance[weapon].append(distance)\n",
    "Killed_list = {weapon:sorted(list(distance)) for weapon, distance in weapon_distance.items()}"
   ]
  },
  {
   "cell_type": "markdown",
   "metadata": {},
   "source": [
    "### Kill Data"
   ]
  },
  {
   "cell_type": "code",
   "execution_count": 6,
   "metadata": {},
   "outputs": [],
   "source": [
    "whole = []\n",
    "for i in range(6,25):\n",
    "    data = [sheet.cell(row = j, column =i).value for j in range(1,145) if sheet.cell(row=j,column = i).value]\n",
    "    weapon = data[0]\n",
    "    average = data[1:3]\n",
    "    distance = sorted(data[3:])\n",
    "    whole.append((weapon,distance))\n",
    "Kill_list = dict(whole)"
   ]
  },
  {
   "cell_type": "markdown",
   "metadata": {},
   "source": [
    "### 1. Kill vs. Killed"
   ]
  },
  {
   "cell_type": "code",
   "execution_count": 8,
   "metadata": {},
   "outputs": [],
   "source": [
    "kill_distance = sorted([j for i in Kill_list.values() for j in i])\n",
    "killed_distance = sorted([j for i in Killed_list.values() for j in i])"
   ]
  },
  {
   "cell_type": "code",
   "execution_count": 11,
   "metadata": {},
   "outputs": [
    {
     "data": {
      "text/plain": [
       "<matplotlib.legend.Legend at 0x22139d6e518>"
      ]
     },
     "execution_count": 11,
     "metadata": {},
     "output_type": "execute_result"
    },
    {
     "data": {
      "image/png": "[encoded data removed]",
      "text/plain": [
       "<Figure size 432x288 with 1 Axes>"
      ]
     },
     "metadata": {},
     "output_type": "display_data"
    }
   ],
   "source": [
    "plt.style.use('seaborn-deep')\n",
    "bins = np.linspace(1, 400, 30) #set the range you want to see. max = 400\n",
    "plt.hist(killed_distance, bins = bins, alpha = .5, label = 'killed')\n",
    "plt.hist(kill_distance, bins = bins, alpha = .5, label = 'kill')\n",
    "plt.ylabel('frequency')\n",
    "plt.xlabel('distance')\n",
    "plt.title('BattleGround Killed')\n",
    "plt.legend()"
   ]
  },
  {
   "cell_type": "markdown",
   "metadata": {},
   "source": [
    "### 2. M416 killed vs. Vector Kill"
   ]
  },
  {
   "cell_type": "code",
   "execution_count": 69,
   "metadata": {},
   "outputs": [
    {
     "data": {
      "text/plain": [
       "<matplotlib.legend.Legend at 0x2213c737e48>"
      ]
     },
     "execution_count": 69,
     "metadata": {},
     "output_type": "execute_result"
    },
    {
     "data": {
      "image/png": "[encoded data removed]",
      "text/plain": [
       "<Figure size 432x288 with 1 Axes>"
      ]
     },
     "metadata": {},
     "output_type": "display_data"
    }
   ],
   "source": [
    "vector = Kill_list['Vector']\n",
    "M416 = Killed_list['M416']\n",
    "bins = np.linspace(1,100,30)\n",
    "plt.hist(vector, bins = bins, alpha = .5, label = 'VectorKill')\n",
    "plt.hist(M416, bins = bins, alpha = .5, label = 'KilledByM416')\n",
    "plt.ylabel('frequency')\n",
    "plt.xlabel('distance')\n",
    "plt.title('M416 killed vs. Vector Kill')\n",
    "plt.legend()"
   ]
  },
  {
   "cell_type": "markdown",
   "metadata": {},
   "source": [
    "### 3. Killed Weapon"
   ]
  },
  {
   "cell_type": "code",
   "execution_count": 23,
   "metadata": {},
   "outputs": [
    {
     "data": {
      "text/html": [
       "<div>\n",
       "<style scoped>\n",
       "    .dataframe tbody tr th:only-of-type {\n",
       "        vertical-align: middle;\n",
       "    }\n",
       "\n",
       "    .dataframe tbody tr th {\n",
       "        vertical-align: top;\n",
       "    }\n",
       "\n",
       "    .dataframe thead th {\n",
       "        text-align: right;\n",
       "    }\n",
       "</style>\n",
       "<table border=\"1\" class=\"dataframe\">\n",
       "  <thead>\n",
       "    <tr style=\"text-align: right;\">\n",
       "      <th></th>\n",
       "      <th>weapon</th>\n",
       "      <th>frequency</th>\n",
       "    </tr>\n",
       "  </thead>\n",
       "  <tbody>\n",
       "    <tr>\n",
       "      <th>0</th>\n",
       "      <td>M416</td>\n",
       "      <td>40</td>\n",
       "    </tr>\n",
       "    <tr>\n",
       "      <th>1</th>\n",
       "      <td>QBZ</td>\n",
       "      <td>12</td>\n",
       "    </tr>\n",
       "    <tr>\n",
       "      <th>2</th>\n",
       "      <td>AKM</td>\n",
       "      <td>5</td>\n",
       "    </tr>\n",
       "    <tr>\n",
       "      <th>3</th>\n",
       "      <td>SKS</td>\n",
       "      <td>4</td>\n",
       "    </tr>\n",
       "    <tr>\n",
       "      <th>4</th>\n",
       "      <td>Vector</td>\n",
       "      <td>4</td>\n",
       "    </tr>\n",
       "    <tr>\n",
       "      <th>5</th>\n",
       "      <td>QBU</td>\n",
       "      <td>3</td>\n",
       "    </tr>\n",
       "    <tr>\n",
       "      <th>6</th>\n",
       "      <td>Kar98k</td>\n",
       "      <td>3</td>\n",
       "    </tr>\n",
       "    <tr>\n",
       "      <th>7</th>\n",
       "      <td>수류탄</td>\n",
       "      <td>3</td>\n",
       "    </tr>\n",
       "    <tr>\n",
       "      <th>8</th>\n",
       "      <td>M16A4</td>\n",
       "      <td>2</td>\n",
       "    </tr>\n",
       "    <tr>\n",
       "      <th>9</th>\n",
       "      <td>M249</td>\n",
       "      <td>2</td>\n",
       "    </tr>\n",
       "    <tr>\n",
       "      <th>10</th>\n",
       "      <td>UMP</td>\n",
       "      <td>1</td>\n",
       "    </tr>\n",
       "    <tr>\n",
       "      <th>11</th>\n",
       "      <td>SLR</td>\n",
       "      <td>1</td>\n",
       "    </tr>\n",
       "    <tr>\n",
       "      <th>12</th>\n",
       "      <td>Beryl</td>\n",
       "      <td>1</td>\n",
       "    </tr>\n",
       "    <tr>\n",
       "      <th>13</th>\n",
       "      <td>교통사고</td>\n",
       "      <td>1</td>\n",
       "    </tr>\n",
       "  </tbody>\n",
       "</table>\n",
       "</div>"
      ],
      "text/plain": [
       "    weapon  frequency\n",
       "0     M416         40\n",
       "1      QBZ         12\n",
       "2      AKM          5\n",
       "3      SKS          4\n",
       "4   Vector          4\n",
       "5      QBU          3\n",
       "6   Kar98k          3\n",
       "7      수류탄          3\n",
       "8    M16A4          2\n",
       "9     M249          2\n",
       "10     UMP          1\n",
       "11     SLR          1\n",
       "12   Beryl          1\n",
       "13    교통사고          1"
      ]
     },
     "execution_count": 23,
     "metadata": {},
     "output_type": "execute_result"
    }
   ],
   "source": [
    "import pandas as pd\n",
    "whole = [(len(Killed_list[weapon]),weapon) for weapon in Killed_list]\n",
    "Dict = {}\n",
    "for freq, weapon in whole:\n",
    "    Dict[weapon] = freq\n",
    "Dict = sorted(Dict.items(), key=lambda x: x[1], reverse = True)\n",
    "df = pd.DataFrame(Dict, columns=[\"weapon\", \"frequency\"]) \n",
    "df"
   ]
  },
  {
   "cell_type": "markdown",
   "metadata": {},
   "source": [
    "### 4. Frequency by the weapon kinds"
   ]
  },
  {
   "cell_type": "code",
   "execution_count": 24,
   "metadata": {},
   "outputs": [
    {
     "data": {
      "text/html": [
       "<div>\n",
       "<style scoped>\n",
       "    .dataframe tbody tr th:only-of-type {\n",
       "        vertical-align: middle;\n",
       "    }\n",
       "\n",
       "    .dataframe tbody tr th {\n",
       "        vertical-align: top;\n",
       "    }\n",
       "\n",
       "    .dataframe thead th {\n",
       "        text-align: right;\n",
       "    }\n",
       "</style>\n",
       "<table border=\"1\" class=\"dataframe\">\n",
       "  <thead>\n",
       "    <tr style=\"text-align: right;\">\n",
       "      <th></th>\n",
       "      <th>weapon</th>\n",
       "      <th>frequency</th>\n",
       "    </tr>\n",
       "  </thead>\n",
       "  <tbody>\n",
       "    <tr>\n",
       "      <th>0</th>\n",
       "      <td>SMG</td>\n",
       "      <td>40</td>\n",
       "    </tr>\n",
       "    <tr>\n",
       "      <th>1</th>\n",
       "      <td>AR</td>\n",
       "      <td>25</td>\n",
       "    </tr>\n",
       "    <tr>\n",
       "      <th>2</th>\n",
       "      <td>DMR</td>\n",
       "      <td>22</td>\n",
       "    </tr>\n",
       "    <tr>\n",
       "      <th>3</th>\n",
       "      <td>SR</td>\n",
       "      <td>9</td>\n",
       "    </tr>\n",
       "    <tr>\n",
       "      <th>4</th>\n",
       "      <td>ETC</td>\n",
       "      <td>4</td>\n",
       "    </tr>\n",
       "  </tbody>\n",
       "</table>\n",
       "</div>"
      ],
      "text/plain": [
       "  weapon  frequency\n",
       "0    SMG         40\n",
       "1     AR         25\n",
       "2    DMR         22\n",
       "3     SR          9\n",
       "4    ETC          4"
      ]
     },
     "execution_count": 24,
     "metadata": {},
     "output_type": "execute_result"
    }
   ],
   "source": [
    "weapon_kinds = defaultdict(list)\n",
    "for weapon in Kill_list:\n",
    "    if weapon in {'Vector', 'UMP', 'Uzi','Skorpion'}:\n",
    "        weapon_kinds['SMG'].append(len(Kill_list[weapon]))\n",
    "    elif weapon in {'M24', 'Kar98k'}:\n",
    "        weapon_kinds['SR'].append(len(Kill_list[weapon]))\n",
    "    elif weapon in {'Mk14', 'VSS', 'QBU', 'SKS', 'SLR'}:\n",
    "        weapon_kinds['DMR'].append(len(Kill_list[weapon]))\n",
    "    elif weapon in {'M416', 'QBZ', 'M16A4', 'AUG', 'Mutant', 'Beryl'}:\n",
    "        weapon_kinds['AR'].append(len(Kill_list[weapon]))\n",
    "    else:\n",
    "        weapon_kinds['ETC'].append(len(Kill_list[weapon]))\n",
    "weapon_frequency = {weapon:sum(frequency) for weapon, frequency in weapon_kinds.items()}\n",
    "weapon_frequency = sorted(weapon_frequency.items(), key=lambda x: x[1], reverse = True)\n",
    "df = pd.DataFrame(weapon_frequency, columns=[\"weapon\", \"frequency\"]) \n",
    "df"
   ]
  },
  {
   "cell_type": "markdown",
   "metadata": {},
   "source": [
    "### 5. Ranking Histogram"
   ]
  },
  {
   "cell_type": "code",
   "execution_count": 42,
   "metadata": {},
   "outputs": [],
   "source": [
    "ranking_sheet = sheet['C5':'C145']\n",
    "rank = [ranking.value for row in ranking_sheet for ranking in row if ranking.value]\n",
    "rank.sort(reverse = True)"
   ]
  },
  {
   "cell_type": "code",
   "execution_count": 58,
   "metadata": {},
   "outputs": [
    {
     "data": {
      "text/plain": [
       "Text(0.5,1,'BattleGround Rank')"
      ]
     },
     "execution_count": 58,
     "metadata": {},
     "output_type": "execute_result"
    },
    {
     "data": {
      "image/png": "[encoded data removed]",
      "text/plain": [
       "<Figure size 720x720 with 1 Axes>"
      ]
     },
     "metadata": {},
     "output_type": "display_data"
    }
   ],
   "source": [
    "plt.figure(figsize = (10,10))\n",
    "plt.style.use('seaborn-deep')\n",
    "bins = np.linspace(1, 100, 20) #set the range you want to see. max = 80\n",
    "plt.hist(rank, bins = bins, alpha = .5, label = 'rank')\n",
    "plt.ylabel('frequency')\n",
    "plt.xlabel('rank')\n",
    "plt.title('BattleGround Rank')"
   ]
  },
  {
   "cell_type": "markdown",
   "metadata": {},
   "source": [
    "### Distance by weapon_kinds"
   ]
  },
  {
   "cell_type": "code",
   "execution_count": 94,
   "metadata": {},
   "outputs": [],
   "source": [
    "weapon_kinds = defaultdict(list)\n",
    "for weapon in Kill_list:\n",
    "    if weapon in {'Vector', 'UMP', 'Uzi','Skorpion'}:\n",
    "        weapon_kinds['SMG'].append(Kill_list[weapon])\n",
    "    elif weapon in {'M24', 'Kar98k'}:\n",
    "        weapon_kinds['SR'].append(Kill_list[weapon])\n",
    "    elif weapon in {'Mk14', 'VSS', 'QBU', 'SKS', 'SLR'}:\n",
    "        weapon_kinds['DMR'].append(Kill_list[weapon])\n",
    "    elif weapon in {'M416', 'QBZ', 'M16A4', 'AUG', 'Mutant', 'Beryl'}:\n",
    "        weapon_kinds['AR'].append(Kill_list[weapon])\n",
    "    else:\n",
    "        weapon_kinds['ETC'].append(Kill_list[weapon])\n",
    "weapon_frequency = {weapon:[item for sublist in frequency for item in sublist] for weapon, frequency in weapon_kinds.items()}"
   ]
  },
  {
   "cell_type": "code",
   "execution_count": 136,
   "metadata": {},
   "outputs": [
    {
     "data": {
      "text/plain": [
       "<Figure size 720x720 with 0 Axes>"
      ]
     },
     "metadata": {},
     "output_type": "display_data"
    },
    {
     "data": {
      "image/png": "[encoded data removed]",
      "text/plain": [
       "<Figure size 720x1440 with 5 Axes>"
      ]
     },
     "metadata": {},
     "output_type": "display_data"
    }
   ],
   "source": [
    "plt.figure(figsize = (10,10))\n",
    "plt.style.use('seaborn-deep')\n",
    "fig, axes = plt.subplots(5,1, figsize = (10,20))\n",
    "ax = axes.ravel()\n",
    "\n",
    "bins = np.linspace(1, 400, 100) #set the range you want to see. max = 80\n",
    "for i in range(5):\n",
    "    ax[i].hist(list(weapon_frequency.values())[i], bins = bins, alpha = .5, label = weapon)\n",
    "    ax[i].set_title(list(weapon_frequency.keys())[i])\n",
    "#     plt.ylabel('frequency')\n",
    "#     plt.xlabel('distance')\n",
    "#     plt.title('BattleGround weapon_kind')\n",
    "#     plt.legend()"
   ]
  },
  {
   "cell_type": "code",
   "execution_count": null,
   "metadata": {},
   "outputs": [],
   "source": []
  }
 ],
 "metadata": {
  "kernelspec": {
   "display_name": "Python 3",
   "language": "python",
   "name": "python3"
  },
  "language_info": {
   "codemirror_mode": {
    "name": "ipython",
    "version": 3
   },
   "file_extension": ".py",
   "mimetype": "text/x-python",
   "name": "python",
   "nbconvert_exporter": "python",
   "pygments_lexer": "ipython3",
   "version": "3.6.5"
  }
 },
 "nbformat": 4,
 "nbformat_minor": 2
}
